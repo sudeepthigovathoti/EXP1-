{
  "nbformat": 4,
  "nbformat_minor": 0,
  "metadata": {
    "colab": {
      "provenance": [],
      "include_colab_link": true
    },
    "kernelspec": {
      "name": "python3",
      "display_name": "Python 3"
    },
    "language_info": {
      "name": "python"
    }
  },
  "cells": [
    {
      "cell_type": "markdown",
      "metadata": {
        "id": "view-in-github",
        "colab_type": "text"
      },
      "source": [
        "<a href=\"https://colab.research.google.com/github/sudeepthigovathoti/EXP1-/blob/main/SE_LAB_EXP_1_Weather_Modeling.ipynb\" target=\"_parent\"><img src=\"https://colab.research.google.com/assets/colab-badge.svg\" alt=\"Open In Colab\"/></a>"
      ]
    },
    {
      "cell_type": "code",
      "execution_count": 3,
      "metadata": {
        "id": "S8xRN-sxC3R3"
      },
      "outputs": [],
      "source": [
        "def Temperature_modeling(a,b,c,time):\n",
        "  temperature = a*time**2 + b*time +c\n",
        "  return temperature"
      ]
    },
    {
      "cell_type": "code",
      "source": [
        "# Hardcoded variables\n",
        "a,b,c=0.1,2,10\n",
        "time = 5\n"
      ],
      "metadata": {
        "id": "-kCn8L9qD9ce"
      },
      "execution_count": 4,
      "outputs": []
    },
    {
      "cell_type": "code",
      "source": [
        "#display results\n",
        "print(\"Hard-coded variables for weather modeling\")\n",
        "print(\"Temperature for hardcoded coefficients at time\",time,\"hours:\",Temperature_modeling(a,b,c,time))\n"
      ],
      "metadata": {
        "colab": {
          "base_uri": "https://localhost:8080/"
        },
        "id": "S9MsMUBIEFLa",
        "outputId": "30dcba47-dcc5-41db-8e46-176c74a62c33"
      },
      "execution_count": 5,
      "outputs": [
        {
          "output_type": "stream",
          "name": "stdout",
          "text": [
            "Hard-coded variables for weather modeling\n",
            "Temperature for hardcoded coefficients at time 5 hours: 22.5\n"
          ]
        }
      ]
    },
    {
      "cell_type": "code",
      "source": [
        "a=float(input(\"Enter coeffient a:\"))\n",
        "b=float(input(\"enter coeffient b:\"))\n",
        "c=float(input(\"enter coeffient c:\"))\n"
      ],
      "metadata": {
        "colab": {
          "base_uri": "https://localhost:8080/"
        },
        "id": "Kpe3po1_FJpj",
        "outputId": "b910080c-740e-481a-afca-d8d76d65a758"
      },
      "execution_count": 6,
      "outputs": [
        {
          "name": "stdout",
          "output_type": "stream",
          "text": [
            "Enter coeffient a:21\n",
            "enter coeffient b:54\n",
            "enter coeffient c:78\n"
          ]
        }
      ]
    },
    {
      "cell_type": "code",
      "source": [
        "time=float(input(\"enter time\"))"
      ],
      "metadata": {
        "colab": {
          "base_uri": "https://localhost:8080/"
        },
        "id": "pzWJehtnGR3-",
        "outputId": "01e69bbb-1ad3-43d7-82b0-fae9de54ed18"
      },
      "execution_count": 8,
      "outputs": [
        {
          "name": "stdout",
          "output_type": "stream",
          "text": [
            "enter time8\n"
          ]
        }
      ]
    },
    {
      "cell_type": "code",
      "source": [
        "#variables read from keyboard\n",
        "print(\"key board variables for weather modeling\")\n",
        "print(\"Temperature form keyboard coefficients at time\",time,\"hours:\",Temperature_modeling(a,b,c,time))"
      ],
      "metadata": {
        "colab": {
          "base_uri": "https://localhost:8080/"
        },
        "id": "UfgvzBc9HyMl",
        "outputId": "8285a53f-be55-4f3e-d1d0-89be186aa919"
      },
      "execution_count": 10,
      "outputs": [
        {
          "output_type": "stream",
          "name": "stdout",
          "text": [
            "key board variables for weather modeling\n",
            "Temperature form keyboard coefficients at time 8.0 hours: 1854.0\n"
          ]
        }
      ]
    },
    {
      "cell_type": "code",
      "source": [
        "def read_from_file(filename):\n",
        "    with open(filename, 'r') as file:\n",
        "        lines = file.readlines()\n",
        "    coefficients = [tuple(map(float, line.strip().split(','))) for line in lines]\n",
        "    return coefficients"
      ],
      "metadata": {
        "id": "2KdL8RUxH94v"
      },
      "execution_count": 12,
      "outputs": []
    },
    {
      "cell_type": "code",
      "source": [
        "# Example: Solve for a single set of inputs\n",
        "coefficients = read_from_file('/content/input file progrm 1.txt')\n",
        "a, b, c, time = coefficients[5]  # First set of coefficients\n",
        "temperature = Temperature_modeling(a, b, c, time)\n",
        "print(\"read from a file for weather modeling\")\n",
        "print(\"Temperature form keyboard coefficients at time\",time,\"hours:\",Temperature_modeling(a,b,c,time))"
      ],
      "metadata": {
        "colab": {
          "base_uri": "https://localhost:8080/"
        },
        "id": "yyUMBJpYIj5N",
        "outputId": "e626442c-437c-4a32-e906-49d3b15bfea6"
      },
      "execution_count": 15,
      "outputs": [
        {
          "output_type": "stream",
          "name": "stdout",
          "text": [
            "read from a file for weather modeling\n",
            "Temperature form keyboard coefficients at time 5.0 hours: 64.0\n"
          ]
        }
      ]
    },
    {
      "cell_type": "code",
      "source": [
        "# Solve for all sets in the file\n",
        "for idx, (a, b, c,time) in enumerate(coefficients):\n",
        "    temperature = Temperature_modeling(a, b, c,time)\n",
        "    print(\"Temperature form keyboard coefficients at time\",time,\"hours:\",Temperature_modeling(a,b,c,time))"
      ],
      "metadata": {
        "colab": {
          "base_uri": "https://localhost:8080/"
        },
        "id": "9OyWbA3VJPco",
        "outputId": "376c8c94-421d-4e37-aba7-1370c6fa4c62"
      },
      "execution_count": 16,
      "outputs": [
        {
          "output_type": "stream",
          "name": "stdout",
          "text": [
            "Temperature form keyboard coefficients at time 3.0 hours: 0.0\n",
            "Temperature form keyboard coefficients at time 4.0 hours: 2.0\n",
            "Temperature form keyboard coefficients at time 5.0 hours: 64.0\n",
            "Temperature form keyboard coefficients at time 3.0 hours: 0.0\n",
            "Temperature form keyboard coefficients at time 4.0 hours: 2.0\n",
            "Temperature form keyboard coefficients at time 5.0 hours: 64.0\n",
            "Temperature form keyboard coefficients at time 3.0 hours: 0.0\n",
            "Temperature form keyboard coefficients at time 4.0 hours: 2.0\n",
            "Temperature form keyboard coefficients at time 5.0 hours: 64.0\n"
          ]
        }
      ]
    },
    {
      "cell_type": "code",
      "source": [],
      "metadata": {
        "id": "xF7ma_mPKZFa"
      },
      "execution_count": null,
      "outputs": []
    }
  ]
}